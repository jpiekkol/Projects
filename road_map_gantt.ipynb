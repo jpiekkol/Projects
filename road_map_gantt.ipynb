{
 "cells": [
  {
   "cell_type": "markdown",
   "metadata": {},
   "source": [
    "# In this notebook creating a road map for the viz company"
   ]
  },
  {
   "cell_type": "markdown",
   "metadata": {},
   "source": [
    "# Imports"
   ]
  },
  {
   "cell_type": "code",
   "execution_count": 67,
   "metadata": {},
   "outputs": [
    {
     "data": {
      "text/html": [
       "        <script type=\"text/javascript\">\n",
       "        window.PlotlyConfig = {MathJaxConfig: 'local'};\n",
       "        if (window.MathJax) {MathJax.Hub.Config({SVG: {font: \"STIX-Web\"}});}\n",
       "        if (typeof require !== 'undefined') {\n",
       "        require.undef(\"plotly\");\n",
       "        requirejs.config({\n",
       "            paths: {\n",
       "                'plotly': ['https://cdn.plot.ly/plotly-latest.min']\n",
       "            }\n",
       "        });\n",
       "        require(['plotly'], function(Plotly) {\n",
       "            window._Plotly = Plotly;\n",
       "        });\n",
       "        }\n",
       "        </script>\n",
       "        "
      ]
     },
     "metadata": {},
     "output_type": "display_data"
    }
   ],
   "source": [
    "import datetime\n",
    "\n",
    "import plotly.figure_factory as ff\n",
    "from plotly.offline import init_notebook_mode, plot, iplot\n",
    "import plotly.graph_objs as go\n",
    "init_notebook_mode(connected=True)"
   ]
  },
  {
   "cell_type": "code",
   "execution_count": 68,
   "metadata": {},
   "outputs": [],
   "source": [
    "def to_unix_time(dt):\n",
    "    epoch =  datetime.datetime.utcfromtimestamp(0)\n",
    "    return (dt - epoch).total_seconds() * 1000"
   ]
  },
  {
   "cell_type": "markdown",
   "metadata": {},
   "source": [
    "# Data"
   ]
  },
  {
   "cell_type": "code",
   "execution_count": 98,
   "metadata": {},
   "outputs": [],
   "source": [
    "activities = [dict(Task=\"Business plan\", Start='2019-06-26', Finish='2019-06-30', Type='Planning'),\n",
    "      dict(Task=\"Company name\", Start='2019-06-28', Finish='2019-06-30', Type='Marketing'),\n",
    "      dict(Task=\"Registration\", Start='2019-06-29', Finish='2019-06-30', Type='Administrative'),\n",
    "             dict(Task=\"Website domain\", Start='2019-06-29', Finish='2019-06-30', Type='Website'),\n",
    "             dict(Task=\"Website plan\", Start='2019-07-01', Finish='2019-07-03', Type='Website'),\n",
    "             dict(Task=\"Website hosting and framework\", Start='2019-07-08', Finish='2019-07-12', Type='Website'),\n",
    "             dict(Task=\"Website structure\", Start='2019-07-13', Finish='2019-07-22', Type='Website'),\n",
    "             dict(Task=\"Setting up toolstack\", Start='2019-07-30', Finish='2019-07-31', Type='Planning'),\n",
    "             dict(Task=\"Mapping marketing platforms\", Start='2019-07-31', Finish='2019-08-01', Type='Marketing'),\n",
    "             dict(Task=\"Example visualizations\", Start='2019-08-01', Finish='2019-08-03', Type='Marketing'),\n",
    "                dict(Task=\"Website content\", Start='2019-08-03', Finish='2019-08-05', Type='Website'),\n",
    "             dict(Task=\"Launch\", Start='2019-08-05', Finish='2019-08-06', Type='Planning')]\n",
    "\n",
    "tickvals = ['2019-06-26','2019-06-30','2019-07-04','2019-07-08','2019-07-13','2019-07-22','2019-07-27','2019-08-06']"
   ]
  },
  {
   "cell_type": "code",
   "execution_count": 138,
   "metadata": {},
   "outputs": [
    {
     "data": {
      "application/vnd.plotly.v1+json": {
       "config": {
        "linkText": "Export to plot.ly",
        "plotlyServerURL": "https://plot.ly",
        "showLink": false
       },
       "data": [
        {
         "marker": {
          "color": "white"
         },
         "name": "",
         "showlegend": false,
         "type": "scatter",
         "uid": "b4ddf6b0-7919-4ffa-85e3-9c1e512fe172",
         "x": [
          "2019-06-26",
          "2019-06-30"
         ],
         "y": [
          0,
          0
         ]
        },
        {
         "marker": {
          "color": "white"
         },
         "name": "",
         "showlegend": false,
         "type": "scatter",
         "uid": "4f982f24-8171-4fcb-8a89-19a70493d6c9",
         "x": [
          "2019-06-28",
          "2019-06-30"
         ],
         "y": [
          1,
          1
         ]
        },
        {
         "marker": {
          "color": "white"
         },
         "name": "",
         "showlegend": false,
         "type": "scatter",
         "uid": "62191de3-f3f3-4796-b2f1-b1f24031e508",
         "x": [
          "2019-06-29",
          "2019-06-30"
         ],
         "y": [
          2,
          2
         ]
        },
        {
         "marker": {
          "color": "white"
         },
         "name": "",
         "showlegend": false,
         "type": "scatter",
         "uid": "6d143eb7-417f-469c-b1c6-8730433ca6ed",
         "x": [
          "2019-06-29",
          "2019-06-30"
         ],
         "y": [
          3,
          3
         ]
        },
        {
         "marker": {
          "color": "white"
         },
         "name": "",
         "showlegend": false,
         "type": "scatter",
         "uid": "0b3047a6-dca3-49e9-b2ed-d4642bebf812",
         "x": [
          "2019-07-01",
          "2019-07-03"
         ],
         "y": [
          4,
          4
         ]
        },
        {
         "marker": {
          "color": "white"
         },
         "name": "",
         "showlegend": false,
         "type": "scatter",
         "uid": "d43f619d-fdc3-4572-b405-cc7bafbc77cd",
         "x": [
          "2019-07-08",
          "2019-07-12"
         ],
         "y": [
          5,
          5
         ]
        },
        {
         "marker": {
          "color": "white"
         },
         "name": "",
         "showlegend": false,
         "type": "scatter",
         "uid": "26629680-1196-4b00-bdff-75270086cae8",
         "x": [
          "2019-07-13",
          "2019-07-22"
         ],
         "y": [
          6,
          6
         ]
        },
        {
         "marker": {
          "color": "white"
         },
         "name": "",
         "showlegend": false,
         "type": "scatter",
         "uid": "4595f18a-6f81-4114-a68a-bbba46de365d",
         "x": [
          "2019-07-30",
          "2019-07-31"
         ],
         "y": [
          7,
          7
         ]
        },
        {
         "marker": {
          "color": "white"
         },
         "name": "",
         "showlegend": false,
         "type": "scatter",
         "uid": "2817fea8-1f1e-481d-b324-e001922ec861",
         "x": [
          "2019-07-31",
          "2019-08-01"
         ],
         "y": [
          8,
          8
         ]
        },
        {
         "marker": {
          "color": "white"
         },
         "name": "",
         "showlegend": false,
         "type": "scatter",
         "uid": "c2002e66-662b-462f-8bc1-0914bd1fa07a",
         "x": [
          "2019-08-01",
          "2019-08-03"
         ],
         "y": [
          9,
          9
         ]
        },
        {
         "marker": {
          "color": "white"
         },
         "name": "",
         "showlegend": false,
         "type": "scatter",
         "uid": "06a626f8-21e5-43ce-b4af-1bd4f6ff36b6",
         "x": [
          "2019-08-03",
          "2019-08-05"
         ],
         "y": [
          10,
          10
         ]
        },
        {
         "marker": {
          "color": "white"
         },
         "name": "",
         "showlegend": false,
         "type": "scatter",
         "uid": "a2fa83f7-a56e-4a0e-b96a-3f6b9f6aaf46",
         "x": [
          "2019-08-05",
          "2019-08-06"
         ],
         "y": [
          11,
          11
         ]
        },
        {
         "hoverinfo": "none",
         "marker": {
          "color": "rgb(198, 47, 105)",
          "size": 1
         },
         "name": "Administrative",
         "showlegend": true,
         "type": "scatter",
         "uid": "7929a3a7-c30a-406d-87ff-f464fbd1bc2e",
         "x": [
          "2019-08-05",
          "2019-08-05"
         ],
         "y": [
          0,
          0
         ]
        },
        {
         "hoverinfo": "none",
         "marker": {
          "color": "rgb(114, 44, 121)",
          "size": 1
         },
         "name": "Marketing",
         "showlegend": true,
         "type": "scatter",
         "uid": "d211ca44-1f8f-44c5-908d-34e4a0dceb48",
         "x": [
          "2019-08-05",
          "2019-08-05"
         ],
         "y": [
          1,
          1
         ]
        },
        {
         "hoverinfo": "none",
         "marker": {
          "color": "rgb(46, 137, 205)",
          "size": 1
         },
         "name": "Planning",
         "showlegend": true,
         "type": "scatter",
         "uid": "6b7fadd5-9f70-4580-b78c-b118ab618b3a",
         "x": [
          "2019-08-05",
          "2019-08-05"
         ],
         "y": [
          2,
          2
         ]
        },
        {
         "hoverinfo": "none",
         "marker": {
          "color": "rgb(58, 149, 136)",
          "size": 1
         },
         "name": "Website",
         "showlegend": true,
         "type": "scatter",
         "uid": "cac1d1fe-fc37-4d6e-80fc-0855031c4fee",
         "x": [
          "2019-08-05",
          "2019-08-05"
         ],
         "y": [
          3,
          3
         ]
        }
       ],
       "layout": {
        "font": {
         "family": "Lato",
         "size": 14
        },
        "height": 800,
        "hovermode": "closest",
        "margin": {
         "b": 75,
         "l": 200,
         "pad": 1,
         "r": 50,
         "t": 50
        },
        "shapes": [
         {
          "fillcolor": "rgb(46, 137, 205)",
          "line": {
           "width": 0
          },
          "opacity": 1,
          "type": "rect",
          "x0": "2019-06-26",
          "x1": "2019-06-30",
          "xref": "x",
          "y0": -0.4,
          "y1": 0.4,
          "yref": "y"
         },
         {
          "fillcolor": "rgb(114, 44, 121)",
          "line": {
           "width": 0
          },
          "opacity": 1,
          "type": "rect",
          "x0": "2019-06-28",
          "x1": "2019-06-30",
          "xref": "x",
          "y0": 0.6,
          "y1": 1.4,
          "yref": "y"
         },
         {
          "fillcolor": "rgb(198, 47, 105)",
          "line": {
           "width": 0
          },
          "opacity": 1,
          "type": "rect",
          "x0": "2019-06-29",
          "x1": "2019-06-30",
          "xref": "x",
          "y0": 1.6,
          "y1": 2.4,
          "yref": "y"
         },
         {
          "fillcolor": "rgb(58, 149, 136)",
          "line": {
           "width": 0
          },
          "opacity": 1,
          "type": "rect",
          "x0": "2019-06-29",
          "x1": "2019-06-30",
          "xref": "x",
          "y0": 2.6,
          "y1": 3.4,
          "yref": "y"
         },
         {
          "fillcolor": "rgb(58, 149, 136)",
          "line": {
           "width": 0
          },
          "opacity": 1,
          "type": "rect",
          "x0": "2019-07-01",
          "x1": "2019-07-03",
          "xref": "x",
          "y0": 3.6,
          "y1": 4.4,
          "yref": "y"
         },
         {
          "fillcolor": "rgb(58, 149, 136)",
          "line": {
           "width": 0
          },
          "opacity": 1,
          "type": "rect",
          "x0": "2019-07-08",
          "x1": "2019-07-12",
          "xref": "x",
          "y0": 4.6,
          "y1": 5.4,
          "yref": "y"
         },
         {
          "fillcolor": "rgb(58, 149, 136)",
          "line": {
           "width": 0
          },
          "opacity": 1,
          "type": "rect",
          "x0": "2019-07-13",
          "x1": "2019-07-22",
          "xref": "x",
          "y0": 5.6,
          "y1": 6.4,
          "yref": "y"
         },
         {
          "fillcolor": "rgb(46, 137, 205)",
          "line": {
           "width": 0
          },
          "opacity": 1,
          "type": "rect",
          "x0": "2019-07-30",
          "x1": "2019-07-31",
          "xref": "x",
          "y0": 6.6,
          "y1": 7.4,
          "yref": "y"
         },
         {
          "fillcolor": "rgb(114, 44, 121)",
          "line": {
           "width": 0
          },
          "opacity": 1,
          "type": "rect",
          "x0": "2019-07-31",
          "x1": "2019-08-01",
          "xref": "x",
          "y0": 7.6,
          "y1": 8.4,
          "yref": "y"
         },
         {
          "fillcolor": "rgb(114, 44, 121)",
          "line": {
           "width": 0
          },
          "opacity": 1,
          "type": "rect",
          "x0": "2019-08-01",
          "x1": "2019-08-03",
          "xref": "x",
          "y0": 8.6,
          "y1": 9.4,
          "yref": "y"
         },
         {
          "fillcolor": "rgb(58, 149, 136)",
          "line": {
           "width": 0
          },
          "opacity": 1,
          "type": "rect",
          "x0": "2019-08-03",
          "x1": "2019-08-05",
          "xref": "x",
          "y0": 9.6,
          "y1": 10.4,
          "yref": "y"
         },
         {
          "fillcolor": "rgb(46, 137, 205)",
          "line": {
           "width": 0
          },
          "opacity": 1,
          "type": "rect",
          "x0": "2019-08-05",
          "x1": "2019-08-06",
          "xref": "x",
          "y0": 10.6,
          "y1": 11.4,
          "yref": "y"
         }
        ],
        "showlegend": true,
        "title": {
         "font": {
          "family": "Lato",
          "size": 28
         },
         "text": "Road map to company lauch"
        },
        "width": 1200,
        "xaxis": {
         "dtick": 86400000,
         "range": [
          "2019-06-25",
          "2019-08-08"
         ],
         "tickformat": "%b %d",
         "type": "date"
        },
        "yaxis": {
         "autorange": false,
         "range": [
          -1,
          12
         ],
         "showgrid": true,
         "ticktext": [
          "Business plan",
          "Company name",
          "Registration",
          "Website domain",
          "Website plan",
          "Website hosting and framework",
          "Website structure",
          "Setting up toolstack",
          "Mapping marketing platforms",
          "Example visualizations",
          "Website content",
          "Launch"
         ],
         "tickvals": [
          0,
          1,
          2,
          3,
          4,
          5,
          6,
          7,
          8,
          9,
          10,
          11
         ],
         "type": "linear",
         "zeroline": false
        }
       }
      },
      "image/png": "[encoded data removed]",
      "text/html": [
       "<div>\n",
       "        \n",
       "        \n",
       "            <div id=\"df968b36-6ae2-45a4-b723-004066d071b1\" class=\"plotly-graph-div\" style=\"height:800px; width:1200px;\"></div>\n",
       "            <script type=\"text/javascript\">\n",
       "                require([\"plotly\"], function(Plotly) {\n",
       "                    window.PLOTLYENV=window.PLOTLYENV || {};\n",
       "                    window.PLOTLYENV.BASE_URL='https://plot.ly';\n",
       "                    \n",
       "                if (document.getElementById(\"df968b36-6ae2-45a4-b723-004066d071b1\")) {\n",
       "                    Plotly.newPlot(\n",
       "                        'df968b36-6ae2-45a4-b723-004066d071b1',\n",
       "                        [{\"marker\": {\"color\": \"white\"}, \"name\": \"\", \"showlegend\": false, \"type\": \"scatter\", \"uid\": \"b4ddf6b0-7919-4ffa-85e3-9c1e512fe172\", \"x\": [\"2019-06-26\", \"2019-06-30\"], \"y\": [0, 0]}, {\"marker\": {\"color\": \"white\"}, \"name\": \"\", \"showlegend\": false, \"type\": \"scatter\", \"uid\": \"4f982f24-8171-4fcb-8a89-19a70493d6c9\", \"x\": [\"2019-06-28\", \"2019-06-30\"], \"y\": [1, 1]}, {\"marker\": {\"color\": \"white\"}, \"name\": \"\", \"showlegend\": false, \"type\": \"scatter\", \"uid\": \"62191de3-f3f3-4796-b2f1-b1f24031e508\", \"x\": [\"2019-06-29\", \"2019-06-30\"], \"y\": [2, 2]}, {\"marker\": {\"color\": \"white\"}, \"name\": \"\", \"showlegend\": false, \"type\": \"scatter\", \"uid\": \"6d143eb7-417f-469c-b1c6-8730433ca6ed\", \"x\": [\"2019-06-29\", \"2019-06-30\"], \"y\": [3, 3]}, {\"marker\": {\"color\": \"white\"}, \"name\": \"\", \"showlegend\": false, \"type\": \"scatter\", \"uid\": \"0b3047a6-dca3-49e9-b2ed-d4642bebf812\", \"x\": [\"2019-07-01\", \"2019-07-03\"], \"y\": [4, 4]}, {\"marker\": {\"color\": \"white\"}, \"name\": \"\", \"showlegend\": false, \"type\": \"scatter\", \"uid\": \"d43f619d-fdc3-4572-b405-cc7bafbc77cd\", \"x\": [\"2019-07-08\", \"2019-07-12\"], \"y\": [5, 5]}, {\"marker\": {\"color\": \"white\"}, \"name\": \"\", \"showlegend\": false, \"type\": \"scatter\", \"uid\": \"26629680-1196-4b00-bdff-75270086cae8\", \"x\": [\"2019-07-13\", \"2019-07-22\"], \"y\": [6, 6]}, {\"marker\": {\"color\": \"white\"}, \"name\": \"\", \"showlegend\": false, \"type\": \"scatter\", \"uid\": \"4595f18a-6f81-4114-a68a-bbba46de365d\", \"x\": [\"2019-07-30\", \"2019-07-31\"], \"y\": [7, 7]}, {\"marker\": {\"color\": \"white\"}, \"name\": \"\", \"showlegend\": false, \"type\": \"scatter\", \"uid\": \"2817fea8-1f1e-481d-b324-e001922ec861\", \"x\": [\"2019-07-31\", \"2019-08-01\"], \"y\": [8, 8]}, {\"marker\": {\"color\": \"white\"}, \"name\": \"\", \"showlegend\": false, \"type\": \"scatter\", \"uid\": \"c2002e66-662b-462f-8bc1-0914bd1fa07a\", \"x\": [\"2019-08-01\", \"2019-08-03\"], \"y\": [9, 9]}, {\"marker\": {\"color\": \"white\"}, \"name\": \"\", \"showlegend\": false, \"type\": \"scatter\", \"uid\": \"06a626f8-21e5-43ce-b4af-1bd4f6ff36b6\", \"x\": [\"2019-08-03\", \"2019-08-05\"], \"y\": [10, 10]}, {\"marker\": {\"color\": \"white\"}, \"name\": \"\", \"showlegend\": false, \"type\": \"scatter\", \"uid\": \"a2fa83f7-a56e-4a0e-b96a-3f6b9f6aaf46\", \"x\": [\"2019-08-05\", \"2019-08-06\"], \"y\": [11, 11]}, {\"hoverinfo\": \"none\", \"marker\": {\"color\": \"rgb(198, 47, 105)\", \"size\": 1}, \"name\": \"Administrative\", \"showlegend\": true, \"type\": \"scatter\", \"uid\": \"7929a3a7-c30a-406d-87ff-f464fbd1bc2e\", \"x\": [\"2019-08-05\", \"2019-08-05\"], \"y\": [0, 0]}, {\"hoverinfo\": \"none\", \"marker\": {\"color\": \"rgb(114, 44, 121)\", \"size\": 1}, \"name\": \"Marketing\", \"showlegend\": true, \"type\": \"scatter\", \"uid\": \"d211ca44-1f8f-44c5-908d-34e4a0dceb48\", \"x\": [\"2019-08-05\", \"2019-08-05\"], \"y\": [1, 1]}, {\"hoverinfo\": \"none\", \"marker\": {\"color\": \"rgb(46, 137, 205)\", \"size\": 1}, \"name\": \"Planning\", \"showlegend\": true, \"type\": \"scatter\", \"uid\": \"6b7fadd5-9f70-4580-b78c-b118ab618b3a\", \"x\": [\"2019-08-05\", \"2019-08-05\"], \"y\": [2, 2]}, {\"hoverinfo\": \"none\", \"marker\": {\"color\": \"rgb(58, 149, 136)\", \"size\": 1}, \"name\": \"Website\", \"showlegend\": true, \"type\": \"scatter\", \"uid\": \"cac1d1fe-fc37-4d6e-80fc-0855031c4fee\", \"x\": [\"2019-08-05\", \"2019-08-05\"], \"y\": [3, 3]}],\n",
       "                        {\"font\": {\"family\": \"Lato\", \"size\": 14}, \"height\": 800, \"hovermode\": \"closest\", \"margin\": {\"b\": 75, \"l\": 200, \"pad\": 1, \"r\": 50, \"t\": 50}, \"shapes\": [{\"fillcolor\": \"rgb(46, 137, 205)\", \"line\": {\"width\": 0}, \"opacity\": 1, \"type\": \"rect\", \"x0\": \"2019-06-26\", \"x1\": \"2019-06-30\", \"xref\": \"x\", \"y0\": -0.4, \"y1\": 0.4, \"yref\": \"y\"}, {\"fillcolor\": \"rgb(114, 44, 121)\", \"line\": {\"width\": 0}, \"opacity\": 1, \"type\": \"rect\", \"x0\": \"2019-06-28\", \"x1\": \"2019-06-30\", \"xref\": \"x\", \"y0\": 0.6, \"y1\": 1.4, \"yref\": \"y\"}, {\"fillcolor\": \"rgb(198, 47, 105)\", \"line\": {\"width\": 0}, \"opacity\": 1, \"type\": \"rect\", \"x0\": \"2019-06-29\", \"x1\": \"2019-06-30\", \"xref\": \"x\", \"y0\": 1.6, \"y1\": 2.4, \"yref\": \"y\"}, {\"fillcolor\": \"rgb(58, 149, 136)\", \"line\": {\"width\": 0}, \"opacity\": 1, \"type\": \"rect\", \"x0\": \"2019-06-29\", \"x1\": \"2019-06-30\", \"xref\": \"x\", \"y0\": 2.6, \"y1\": 3.4, \"yref\": \"y\"}, {\"fillcolor\": \"rgb(58, 149, 136)\", \"line\": {\"width\": 0}, \"opacity\": 1, \"type\": \"rect\", \"x0\": \"2019-07-01\", \"x1\": \"2019-07-03\", \"xref\": \"x\", \"y0\": 3.6, \"y1\": 4.4, \"yref\": \"y\"}, {\"fillcolor\": \"rgb(58, 149, 136)\", \"line\": {\"width\": 0}, \"opacity\": 1, \"type\": \"rect\", \"x0\": \"2019-07-08\", \"x1\": \"2019-07-12\", \"xref\": \"x\", \"y0\": 4.6, \"y1\": 5.4, \"yref\": \"y\"}, {\"fillcolor\": \"rgb(58, 149, 136)\", \"line\": {\"width\": 0}, \"opacity\": 1, \"type\": \"rect\", \"x0\": \"2019-07-13\", \"x1\": \"2019-07-22\", \"xref\": \"x\", \"y0\": 5.6, \"y1\": 6.4, \"yref\": \"y\"}, {\"fillcolor\": \"rgb(46, 137, 205)\", \"line\": {\"width\": 0}, \"opacity\": 1, \"type\": \"rect\", \"x0\": \"2019-07-30\", \"x1\": \"2019-07-31\", \"xref\": \"x\", \"y0\": 6.6, \"y1\": 7.4, \"yref\": \"y\"}, {\"fillcolor\": \"rgb(114, 44, 121)\", \"line\": {\"width\": 0}, \"opacity\": 1, \"type\": \"rect\", \"x0\": \"2019-07-31\", \"x1\": \"2019-08-01\", \"xref\": \"x\", \"y0\": 7.6, \"y1\": 8.4, \"yref\": \"y\"}, {\"fillcolor\": \"rgb(114, 44, 121)\", \"line\": {\"width\": 0}, \"opacity\": 1, \"type\": \"rect\", \"x0\": \"2019-08-01\", \"x1\": \"2019-08-03\", \"xref\": \"x\", \"y0\": 8.6, \"y1\": 9.4, \"yref\": \"y\"}, {\"fillcolor\": \"rgb(58, 149, 136)\", \"line\": {\"width\": 0}, \"opacity\": 1, \"type\": \"rect\", \"x0\": \"2019-08-03\", \"x1\": \"2019-08-05\", \"xref\": \"x\", \"y0\": 9.6, \"y1\": 10.4, \"yref\": \"y\"}, {\"fillcolor\": \"rgb(46, 137, 205)\", \"line\": {\"width\": 0}, \"opacity\": 1, \"type\": \"rect\", \"x0\": \"2019-08-05\", \"x1\": \"2019-08-06\", \"xref\": \"x\", \"y0\": 10.6, \"y1\": 11.4, \"yref\": \"y\"}], \"showlegend\": true, \"title\": {\"font\": {\"family\": \"Lato\", \"size\": 28}, \"text\": \"Road map to company lauch\"}, \"width\": 1200, \"xaxis\": {\"dtick\": 86400000.0, \"range\": [\"2019-06-25\", \"2019-08-08\"], \"tickformat\": \"%b %d\"}, \"yaxis\": {\"autorange\": false, \"range\": [-1, 12], \"showgrid\": true, \"ticktext\": [\"Business plan\", \"Company name\", \"Registration\", \"Website domain\", \"Website plan\", \"Website hosting and framework\", \"Website structure\", \"Setting up toolstack\", \"Mapping marketing platforms\", \"Example visualizations\", \"Website content\", \"Launch\"], \"tickvals\": [0, 1, 2, 3, 4, 5, 6, 7, 8, 9, 10, 11], \"zeroline\": false}},\n",
       "                        {\"showLink\": false, \"linkText\": \"Export to plot.ly\", \"plotlyServerURL\": \"https://plot.ly\", \"responsive\": true}\n",
       "                    ).then(function(){\n",
       "                            \n",
       "var gd = document.getElementById('df968b36-6ae2-45a4-b723-004066d071b1');\n",
       "var x = new MutationObserver(function (mutations, observer) {{\n",
       "        var display = window.getComputedStyle(gd).display;\n",
       "        if (!display || display === 'none') {{\n",
       "            console.log([gd, 'removed!']);\n",
       "            Plotly.purge(gd);\n",
       "            observer.disconnect();\n",
       "        }}\n",
       "}});\n",
       "\n",
       "// Listen for the removal of the full notebook cells\n",
       "var notebookContainer = gd.closest('#notebook-container');\n",
       "if (notebookContainer) {{\n",
       "    x.observe(notebookContainer, {childList: true});\n",
       "}}\n",
       "\n",
       "// Listen for the clearing of the current output cell\n",
       "var outputEl = gd.closest('.output');\n",
       "if (outputEl) {{\n",
       "    x.observe(outputEl, {childList: true});\n",
       "}}\n",
       "\n",
       "                        })\n",
       "                };\n",
       "                });\n",
       "            </script>\n",
       "        </div>"
      ]
     },
     "metadata": {},
     "output_type": "display_data"
    }
   ],
   "source": [
    "# Set colors\n",
    "colors = dict(Planning = 'rgb(46, 137, 205)',\n",
    "              Marketing = 'rgb(114, 44, 121)',\n",
    "              Administrative = 'rgb(198, 47, 105)',\n",
    "              Website = 'rgb(58, 149, 136)')\n",
    "\n",
    "# Create figure\n",
    "fig = ff.create_gantt(activities, colors=colors, index_col='Type', showgrid_y=True, showgrid_x=True, height=800, width=1200, show_colorbar=True, bar_width=0.4)\n",
    "# fig = ff.create_gantt(activities, showgrid_y=True, showgrid_x=True, width=1000)\n",
    "\n",
    "\n",
    "# Edit margins\n",
    "fig['layout']['margin'] = go.layout.Margin(\n",
    "        l=200,\n",
    "        r=50,\n",
    "        b=75,\n",
    "        t=50,\n",
    "        pad=1)\n",
    "\n",
    "# Set font to Lato\n",
    "fig['layout']['font'] = dict(family='Lato', size=14)\n",
    "\n",
    "# Format x-axis\n",
    "fig['layout']['xaxis'] = dict(dtick=86400000.0, range=['2019-06-25','2019-08-08'], tickformat='%b %d')\n",
    "\n",
    "# Format y-axis\n",
    "fig['layout']['yaxis']['range'] = [-1,12]\n",
    "\n",
    "# Set title\n",
    "fig['layout']['title'] = go.layout.Title(text='Road map to company lauch')\n",
    "fig['layout']['titlefont'] = dict(family='Lato',size=28)\n",
    "\n",
    "iplot(fig, filename='gantt-simple-gantt-chart')"
   ]
  },
  {
   "cell_type": "code",
   "execution_count": null,
   "metadata": {},
   "outputs": [],
   "source": []
  }
 ],
 "metadata": {
  "kernelspec": {
   "display_name": "tmi_visualizations",
   "language": "python",
   "name": "tmi_visualizations"
  },
  "language_info": {
   "codemirror_mode": {
    "name": "ipython",
    "version": 3
   },
   "file_extension": ".py",
   "mimetype": "text/x-python",
   "name": "python",
   "nbconvert_exporter": "python",
   "pygments_lexer": "ipython3",
   "version": "3.7.3"
  }
 },
 "nbformat": 4,
 "nbformat_minor": 2
}
